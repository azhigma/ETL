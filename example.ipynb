{
 "cells": [
  {
   "cell_type": "code",
   "execution_count": 12,
   "metadata": {},
   "outputs": [],
   "source": [
    " import pandas as pd \n",
    " import requests\n",
    " import json\n",
    " "
   ]
  },
  {
   "cell_type": "code",
   "execution_count": 19,
   "metadata": {},
   "outputs": [],
   "source": [
    "lat = '56.50' #latitude\n",
    "lon = '60.35' #longitude\n",
    "api_key = '1e89b2fd03d6387a5479864d6c246237' #your unique API key"
   ]
  },
  {
   "cell_type": "code",
   "execution_count": 36,
   "metadata": {},
   "outputs": [],
   "source": [
    "url = f'https://api.openweathermap.org/data/2.5/weather?lat={lat}&lon={lon}&appid={api_key}'\n",
    "response = requests.get(url)\n",
    "launches_json = response.json()\n"
   ]
  },
  {
   "cell_type": "code",
   "execution_count": 42,
   "metadata": {},
   "outputs": [
    {
     "name": "stdout",
     "output_type": "stream",
     "text": [
      "{'temp': 293.05, 'feels_like': 292.71, 'temp_min': 293.05, 'temp_max': 293.05, 'pressure': 1012, 'humidity': 62, 'sea_level': 1012, 'grnd_level': 970}\n"
     ]
    }
   ],
   "source": [
    "print(launches_json['main'])"
   ]
  },
  {
   "cell_type": "code",
   "execution_count": 38,
   "metadata": {},
   "outputs": [],
   "source": [
    "with open('file.json', 'w') as write:\n",
    "    json.dump(launches_json, write)"
   ]
  },
  {
   "cell_type": "code",
   "execution_count": 39,
   "metadata": {},
   "outputs": [],
   "source": [
    "with open ('file.json', 'r') as myfile:\n",
    "    weather = myfile.read()\n",
    "\n",
    "a = json.loads(weather)"
   ]
  },
  {
   "cell_type": "code",
   "execution_count": 26,
   "metadata": {},
   "outputs": [],
   "source": [
    "weather = []\n",
    "temp = []\n",
    "feel_like = []\n",
    "wind_speed = []"
   ]
  },
  {
   "cell_type": "code",
   "execution_count": 40,
   "metadata": {},
   "outputs": [
    {
     "data": {
      "text/plain": [
       "{'temp': 293.05,\n",
       " 'feels_like': 292.71,\n",
       " 'temp_min': 293.05,\n",
       " 'temp_max': 293.05,\n",
       " 'pressure': 1012,\n",
       " 'humidity': 62,\n",
       " 'sea_level': 1012,\n",
       " 'grnd_level': 970}"
      ]
     },
     "execution_count": 40,
     "metadata": {},
     "output_type": "execute_result"
    }
   ],
   "source": [
    "a['main']"
   ]
  },
  {
   "cell_type": "code",
   "execution_count": 43,
   "metadata": {},
   "outputs": [
    {
     "data": {
      "text/plain": [
       "'{\"coord\": {\"lon\": 60.35, \"lat\": 56.5}, \"weather\": [{\"id\": 802, \"main\": \"Clouds\", \"description\": \"scattered clouds\", \"icon\": \"03d\"}], \"base\": \"stations\", \"main\": {\"temp\": 293.05, \"feels_like\": 292.71, \"temp_min\": 293.05, \"temp_max\": 293.05, \"pressure\": 1012, \"humidity\": 62, \"sea_level\": 1012, \"grnd_level\": 970}, \"visibility\": 10000, \"wind\": {\"speed\": 7.61, \"deg\": 250, \"gust\": 16.89}, \"clouds\": {\"all\": 26}, \"dt\": 1714283243, \"sys\": {\"type\": 1, \"id\": 8985, \"country\": \"RU\", \"sunrise\": 1714263541, \"sunset\": 1714318372}, \"timezone\": 18000, \"id\": 1491053, \"name\": \"Stantsionnyy-Polevskoy\", \"cod\": 200}'"
      ]
     },
     "execution_count": 43,
     "metadata": {},
     "output_type": "execute_result"
    }
   ],
   "source": [
    "data"
   ]
  },
  {
   "cell_type": "code",
   "execution_count": null,
   "metadata": {},
   "outputs": [],
   "source": [
    "for i in data:\n",
    "    weather.append(data)"
   ]
  }
 ],
 "metadata": {
  "kernelspec": {
   "display_name": "base",
   "language": "python",
   "name": "python3"
  },
  "language_info": {
   "codemirror_mode": {
    "name": "ipython",
    "version": 3
   },
   "file_extension": ".py",
   "mimetype": "text/x-python",
   "name": "python",
   "nbconvert_exporter": "python",
   "pygments_lexer": "ipython3",
   "version": "3.11.5"
  }
 },
 "nbformat": 4,
 "nbformat_minor": 2
}
